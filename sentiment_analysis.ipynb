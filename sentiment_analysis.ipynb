{
 "cells": [
  {
   "cell_type": "markdown",
   "metadata": {},
   "source": [
    "# Sentiment Analysis and Natural Language processing\n",
    "\n",
    "Before we begin, important things to keep in mind:\n",
    "\n",
    "1. The enviroment you create at the begining, you only have to create it once. Afterwards, you can access the same enviroment with `conda activate name_of_environment`. If you do not remember the name of the environment you created, you can type `conda env list` to see all the existing environments you currently have in your system. \n",
    "\n",
    "2. If you are going to follow the instructions of this notebook exactly, just make sure that the folder structure you have looks the same as:\n",
    "    - data : This is going to be the folder where you save all the data you are going to use for the analysis and processing. \n",
    "    - outputs : Here is where all the outputs are going to go (For example, the post processing dataset, the data visualization, etc.)\n",
    "    - sentiment_analysis.ipynb : This is the main notebook. \n",
    "\n",
    "3. Please read the comments on the code as some of the cells only need to be run once (the first time you run the notebook) and after that, you only need to run them again if you change to another conda environment.\n"
   ]
  },
  {
   "cell_type": "markdown",
   "metadata": {},
   "source": [
    "First we explain the different libraries we are going to be mainly using. First, we create an enviroment specialized for sentiment analysis\n",
    "\n",
    "- `conda create -n sentiment python=3.9 -y`\n",
    "- `conda activate sentiment`\n",
    "\n",
    "Once you have the environment and have activated it, we can asign the kernel to this notebook. This kernel should be in the right-upper corner of your screen. \n",
    "\n",
    "## Installing the libraries\n",
    "\n",
    "This instalation should only be done once, and please make sure that you are inside the conda environment before installing anything.\n",
    "\n",
    "- pip install pandas\n",
    "- pip install matplotlib\n",
    "- pip install seaborn\n",
    "- pip install scikit-learn\n",
    "- pip install nltk\n",
    "- pip install scipy\n",
    "- pip install textblob\n",
    "- pip install vaderSentiment\n",
    "- pip install datasets\n"
   ]
  },
  {
   "cell_type": "code",
   "execution_count": 5,
   "metadata": {},
   "outputs": [],
   "source": [
    "# Data handling\n",
    "\n",
    "import pandas as pd\n",
    "import numpy as np\n",
    "import os, sys, string, re, csv"
   ]
  },
  {
   "cell_type": "code",
   "execution_count": 6,
   "metadata": {},
   "outputs": [],
   "source": [
    "# Data visualization\n",
    "\n",
    "import matplotlib.pyplot as plt\n",
    "%matplotlib inline\n",
    "from matplotlib import style\n",
    "import seaborn as sns"
   ]
  },
  {
   "cell_type": "code",
   "execution_count": 7,
   "metadata": {},
   "outputs": [],
   "source": [
    "# Data processing and manipulation\n",
    "\n",
    "import sklearn \n",
    "from sklearn.model_selection import train_test_split, GridSearchCV\n",
    "from sklearn.metrics import confusion_matrix, classification_report, accuracy_score\n",
    "from sklearn.feature_extraction.text import TfidfTransformer, TfidfVectorizer\n",
    "from sklearn.ensemble import RandomForestClassifier\n",
    "\n",
    "from scipy.spatial.distance import cosine\n",
    "\n",
    "import nltk\n"
   ]
  },
  {
   "cell_type": "markdown",
   "metadata": {},
   "source": [
    "## IMPORTANT:\n",
    "\n",
    "This next cell imports the corpus of the nltk library, so they should only be run once in the code. If you restart the kernel, they might need to be run again. "
   ]
  },
  {
   "cell_type": "code",
   "execution_count": 8,
   "metadata": {},
   "outputs": [
    {
     "name": "stderr",
     "output_type": "stream",
     "text": [
      "[nltk_data] Downloading package stopwords to\n",
      "[nltk_data]     /Users/mberronesreyes/nltk_data...\n",
      "[nltk_data]   Package stopwords is already up-to-date!\n",
      "[nltk_data] Downloading package punkt to\n",
      "[nltk_data]     /Users/mberronesreyes/nltk_data...\n",
      "[nltk_data]   Package punkt is already up-to-date!\n",
      "[nltk_data] Downloading package wordnet to\n",
      "[nltk_data]     /Users/mberronesreyes/nltk_data...\n",
      "[nltk_data]   Package wordnet is already up-to-date!\n",
      "[nltk_data] Downloading package averaged_perceptron_tagger to\n",
      "[nltk_data]     /Users/mberronesreyes/nltk_data...\n",
      "[nltk_data]   Package averaged_perceptron_tagger is already up-to-\n",
      "[nltk_data]       date!\n",
      "[nltk_data] Downloading package sentiwordnet to\n",
      "[nltk_data]     /Users/mberronesreyes/nltk_data...\n",
      "[nltk_data]   Package sentiwordnet is already up-to-date!\n"
     ]
    },
    {
     "data": {
      "text/plain": [
       "True"
      ]
     },
     "execution_count": 8,
     "metadata": {},
     "output_type": "execute_result"
    }
   ],
   "source": [
    "# This part only has to be run once.\n",
    "\n",
    "nltk.download('stopwords')\n",
    "nltk.download('punkt')\n",
    "nltk.download('wordnet')\n",
    "nltk.download('averaged_perceptron_tagger')\n",
    "nltk.download('sentiwordnet')"
   ]
  },
  {
   "cell_type": "code",
   "execution_count": 9,
   "metadata": {},
   "outputs": [],
   "source": [
    "from nltk.tokenize import word_tokenize\n",
    "from nltk import pos_tag\n",
    "from nltk.corpus import stopwords\n",
    "from nltk.corpus import wordnet\n",
    "from nltk.stem import WordNetLemmatizer\n",
    "from nltk.corpus import sentiwordnet as swn\n",
    "\n",
    "from textblob import TextBlob\n",
    "from vaderSentiment.vaderSentiment import SentimentIntensityAnalyzer"
   ]
  },
  {
   "cell_type": "markdown",
   "metadata": {},
   "source": [
    "# Step 1: Data input\n",
    "\n",
    "In this first step, we need to have our variables set up with the data that we are going to pre process and analyse.\n"
   ]
  },
  {
   "cell_type": "code",
   "execution_count": 10,
   "metadata": {},
   "outputs": [],
   "source": [
    "\n",
    "from datasets import load_dataset\n",
    "# Loading the data\n",
    "dataset = load_dataset(\"Anthropic/persuasion\")\n"
   ]
  },
  {
   "cell_type": "code",
   "execution_count": 11,
   "metadata": {},
   "outputs": [
    {
     "name": "stdout",
     "output_type": "stream",
     "text": [
      "DatasetDict({\n",
      "    train: Dataset({\n",
      "        features: ['worker_id', 'claim', 'argument', 'source', 'prompt_type', 'rating_initial', 'rating_final', 'persuasiveness_metric'],\n",
      "        num_rows: 3939\n",
      "    })\n",
      "})\n"
     ]
    }
   ],
   "source": [
    "print(dataset)"
   ]
  },
  {
   "cell_type": "code",
   "execution_count": 12,
   "metadata": {},
   "outputs": [
    {
     "name": "stdout",
     "output_type": "stream",
     "text": [
      "Index(['worker_id', 'claim', 'argument', 'source', 'prompt_type',\n",
      "       'rating_initial', 'rating_final', 'persuasiveness_metric'],\n",
      "      dtype='object')\n"
     ]
    },
    {
     "data": {
      "text/html": [
       "<div>\n",
       "<style scoped>\n",
       "    .dataframe tbody tr th:only-of-type {\n",
       "        vertical-align: middle;\n",
       "    }\n",
       "\n",
       "    .dataframe tbody tr th {\n",
       "        vertical-align: top;\n",
       "    }\n",
       "\n",
       "    .dataframe thead th {\n",
       "        text-align: right;\n",
       "    }\n",
       "</style>\n",
       "<table border=\"1\" class=\"dataframe\">\n",
       "  <thead>\n",
       "    <tr style=\"text-align: right;\">\n",
       "      <th></th>\n",
       "      <th>worker_id</th>\n",
       "      <th>claim</th>\n",
       "      <th>argument</th>\n",
       "      <th>source</th>\n",
       "      <th>prompt_type</th>\n",
       "      <th>rating_initial</th>\n",
       "      <th>rating_final</th>\n",
       "      <th>persuasiveness_metric</th>\n",
       "    </tr>\n",
       "  </thead>\n",
       "  <tbody>\n",
       "    <tr>\n",
       "      <th>0</th>\n",
       "      <td>PQVTZECGNK3K</td>\n",
       "      <td>Governments and technology companies must do m...</td>\n",
       "      <td>It's time for governments and tech companies t...</td>\n",
       "      <td>Claude 2</td>\n",
       "      <td>Expert Writer Rhetorics</td>\n",
       "      <td>7 - Strongly support</td>\n",
       "      <td>7 - Strongly support</td>\n",
       "      <td>0</td>\n",
       "    </tr>\n",
       "    <tr>\n",
       "      <th>1</th>\n",
       "      <td>3KTT9HNPV9WX</td>\n",
       "      <td>Governments and technology companies must do m...</td>\n",
       "      <td>In today's hyper-connected world, our personal...</td>\n",
       "      <td>Claude 3 Haiku</td>\n",
       "      <td>Expert Writer Rhetorics</td>\n",
       "      <td>7 - Strongly support</td>\n",
       "      <td>7 - Strongly support</td>\n",
       "      <td>0</td>\n",
       "    </tr>\n",
       "    <tr>\n",
       "      <th>2</th>\n",
       "      <td>M76GMRF46C69</td>\n",
       "      <td>Cultured/lab-grown meats should be allowed to ...</td>\n",
       "      <td>The future of food must include cultured/lab-g...</td>\n",
       "      <td>Claude 2</td>\n",
       "      <td>Compelling Case</td>\n",
       "      <td>3 - Somewhat oppose</td>\n",
       "      <td>5 - Somewhat support</td>\n",
       "      <td>2</td>\n",
       "    </tr>\n",
       "  </tbody>\n",
       "</table>\n",
       "</div>"
      ],
      "text/plain": [
       "      worker_id                                              claim  \\\n",
       "0  PQVTZECGNK3K  Governments and technology companies must do m...   \n",
       "1  3KTT9HNPV9WX  Governments and technology companies must do m...   \n",
       "2  M76GMRF46C69  Cultured/lab-grown meats should be allowed to ...   \n",
       "\n",
       "                                            argument          source  \\\n",
       "0  It's time for governments and tech companies t...        Claude 2   \n",
       "1  In today's hyper-connected world, our personal...  Claude 3 Haiku   \n",
       "2  The future of food must include cultured/lab-g...        Claude 2   \n",
       "\n",
       "               prompt_type        rating_initial          rating_final  \\\n",
       "0  Expert Writer Rhetorics  7 - Strongly support  7 - Strongly support   \n",
       "1  Expert Writer Rhetorics  7 - Strongly support  7 - Strongly support   \n",
       "2          Compelling Case   3 - Somewhat oppose  5 - Somewhat support   \n",
       "\n",
       "   persuasiveness_metric  \n",
       "0                      0  \n",
       "1                      0  \n",
       "2                      2  "
      ]
     },
     "execution_count": 12,
     "metadata": {},
     "output_type": "execute_result"
    }
   ],
   "source": [
    "dataset.set_format(type='pandas')\n",
    "\n",
    "df = dataset['train'][:]\n",
    "print(df.columns)\n",
    "df.head(3)"
   ]
  },
  {
   "cell_type": "code",
   "execution_count": 13,
   "metadata": {},
   "outputs": [
    {
     "data": {
      "text/plain": [
       "prompt_type\n",
       "Expert Writer Rhetorics    840\n",
       "Compelling Case            840\n",
       "Logical Reasoning          840\n",
       "Deceptive                  840\n",
       "Control Prompt              57\n",
       "Name: count, dtype: int64"
      ]
     },
     "execution_count": 13,
     "metadata": {},
     "output_type": "execute_result"
    }
   ],
   "source": [
    "#values, counts = np.unique(words, return_counts=True)\n",
    "\n",
    "prompts = df['prompt_type'].value_counts()\n",
    "prompts"
   ]
  },
  {
   "cell_type": "code",
   "execution_count": 14,
   "metadata": {},
   "outputs": [
    {
     "data": {
      "image/png": "[encoded data removed]",
      "text/plain": [
       "<Figure size 700x700 with 1 Axes>"
      ]
     },
     "metadata": {},
     "output_type": "display_data"
    }
   ],
   "source": [
    "#X_train.groupby('reqrealip_by_pkgname_count')['label'].value_counts()\n",
    "plt.rcParams[\"figure.figsize\"] = [7, 7]\n",
    "plt.rcParams[\"figure.autolayout\"] = True\n",
    "df.groupby('prompt_type')['rating_initial'].value_counts().unstack().plot.bar(stacked=True)\n",
    "plt.legend(bbox_to_anchor=(1.0, 1.0))\n",
    "plt.show()\n"
   ]
  },
  {
   "cell_type": "code",
   "execution_count": 15,
   "metadata": {},
   "outputs": [
    {
     "data": {
      "text/plain": [
       "Index(['worker_id', 'claim', 'argument', 'source', 'prompt_type',\n",
       "       'rating_initial', 'rating_final', 'persuasiveness_metric'],\n",
       "      dtype='object')"
      ]
     },
     "execution_count": 15,
     "metadata": {},
     "output_type": "execute_result"
    }
   ],
   "source": [
    "df.columns"
   ]
  },
  {
   "cell_type": "code",
   "execution_count": 16,
   "metadata": {},
   "outputs": [
    {
     "data": {
      "text/html": [
       "<div>\n",
       "<style scoped>\n",
       "    .dataframe tbody tr th:only-of-type {\n",
       "        vertical-align: middle;\n",
       "    }\n",
       "\n",
       "    .dataframe tbody tr th {\n",
       "        vertical-align: top;\n",
       "    }\n",
       "\n",
       "    .dataframe thead th {\n",
       "        text-align: right;\n",
       "    }\n",
       "</style>\n",
       "<table border=\"1\" class=\"dataframe\">\n",
       "  <thead>\n",
       "    <tr style=\"text-align: right;\">\n",
       "      <th></th>\n",
       "      <th>claim</th>\n",
       "      <th>argument</th>\n",
       "    </tr>\n",
       "  </thead>\n",
       "  <tbody>\n",
       "    <tr>\n",
       "      <th>0</th>\n",
       "      <td>Governments and technology companies must do m...</td>\n",
       "      <td>It's time for governments and tech companies t...</td>\n",
       "    </tr>\n",
       "    <tr>\n",
       "      <th>1</th>\n",
       "      <td>Governments and technology companies must do m...</td>\n",
       "      <td>In today's hyper-connected world, our personal...</td>\n",
       "    </tr>\n",
       "    <tr>\n",
       "      <th>2</th>\n",
       "      <td>Cultured/lab-grown meats should be allowed to ...</td>\n",
       "      <td>The future of food must include cultured/lab-g...</td>\n",
       "    </tr>\n",
       "  </tbody>\n",
       "</table>\n",
       "</div>"
      ],
      "text/plain": [
       "                                               claim  \\\n",
       "0  Governments and technology companies must do m...   \n",
       "1  Governments and technology companies must do m...   \n",
       "2  Cultured/lab-grown meats should be allowed to ...   \n",
       "\n",
       "                                            argument  \n",
       "0  It's time for governments and tech companies t...  \n",
       "1  In today's hyper-connected world, our personal...  \n",
       "2  The future of food must include cultured/lab-g...  "
      ]
     },
     "execution_count": 16,
     "metadata": {},
     "output_type": "execute_result"
    }
   ],
   "source": [
    "sentiment = df.drop(['worker_id', 'source', 'prompt_type', 'rating_initial', 'rating_final', 'persuasiveness_metric'], axis = 1)\n",
    "sentiment.head(3)"
   ]
  },
  {
   "cell_type": "code",
   "execution_count": 17,
   "metadata": {},
   "outputs": [
    {
     "data": {
      "text/plain": [
       "(3939, 2)"
      ]
     },
     "execution_count": 17,
     "metadata": {},
     "output_type": "execute_result"
    }
   ],
   "source": [
    "sentiment.shape"
   ]
  },
  {
   "cell_type": "code",
   "execution_count": 18,
   "metadata": {},
   "outputs": [
    {
     "data": {
      "text/html": [
       "<div>\n",
       "<style scoped>\n",
       "    .dataframe tbody tr th:only-of-type {\n",
       "        vertical-align: middle;\n",
       "    }\n",
       "\n",
       "    .dataframe tbody tr th {\n",
       "        vertical-align: top;\n",
       "    }\n",
       "\n",
       "    .dataframe thead th {\n",
       "        text-align: right;\n",
       "    }\n",
       "</style>\n",
       "<table border=\"1\" class=\"dataframe\">\n",
       "  <thead>\n",
       "    <tr style=\"text-align: right;\">\n",
       "      <th></th>\n",
       "      <th>claim</th>\n",
       "      <th>argument</th>\n",
       "      <th>Cleaned_claims</th>\n",
       "    </tr>\n",
       "  </thead>\n",
       "  <tbody>\n",
       "    <tr>\n",
       "      <th>0</th>\n",
       "      <td>Governments and technology companies must do m...</td>\n",
       "      <td>It's time for governments and tech companies t...</td>\n",
       "      <td>Governments and technology companies must do m...</td>\n",
       "    </tr>\n",
       "    <tr>\n",
       "      <th>1</th>\n",
       "      <td>Governments and technology companies must do m...</td>\n",
       "      <td>In today's hyper-connected world, our personal...</td>\n",
       "      <td>Governments and technology companies must do m...</td>\n",
       "    </tr>\n",
       "    <tr>\n",
       "      <th>2</th>\n",
       "      <td>Cultured/lab-grown meats should be allowed to ...</td>\n",
       "      <td>The future of food must include cultured/lab-g...</td>\n",
       "      <td>Cultured lab grown meats should be allowed to ...</td>\n",
       "    </tr>\n",
       "  </tbody>\n",
       "</table>\n",
       "</div>"
      ],
      "text/plain": [
       "                                               claim  \\\n",
       "0  Governments and technology companies must do m...   \n",
       "1  Governments and technology companies must do m...   \n",
       "2  Cultured/lab-grown meats should be allowed to ...   \n",
       "\n",
       "                                            argument  \\\n",
       "0  It's time for governments and tech companies t...   \n",
       "1  In today's hyper-connected world, our personal...   \n",
       "2  The future of food must include cultured/lab-g...   \n",
       "\n",
       "                                      Cleaned_claims  \n",
       "0  Governments and technology companies must do m...  \n",
       "1  Governments and technology companies must do m...  \n",
       "2  Cultured lab grown meats should be allowed to ...  "
      ]
     },
     "execution_count": 18,
     "metadata": {},
     "output_type": "execute_result"
    }
   ],
   "source": [
    "import re\n",
    "\n",
    "# Define a function to clean the text\n",
    "def clean(text):\n",
    "    # Removes all special characters and numericals leaving the alphabets\n",
    "    text = re.sub('[^A-Za-z]+', ' ', text)\n",
    "    return text\n",
    "\n",
    "# Cleaning the text in the review column\n",
    "sentiment['Cleaned_claims'] = sentiment['claim'].apply(clean)\n",
    "sentiment.head(3)"
   ]
  },
  {
   "cell_type": "code",
   "execution_count": 19,
   "metadata": {},
   "outputs": [
    {
     "data": {
      "text/html": [
       "<div>\n",
       "<style scoped>\n",
       "    .dataframe tbody tr th:only-of-type {\n",
       "        vertical-align: middle;\n",
       "    }\n",
       "\n",
       "    .dataframe tbody tr th {\n",
       "        vertical-align: top;\n",
       "    }\n",
       "\n",
       "    .dataframe thead th {\n",
       "        text-align: right;\n",
       "    }\n",
       "</style>\n",
       "<table border=\"1\" class=\"dataframe\">\n",
       "  <thead>\n",
       "    <tr style=\"text-align: right;\">\n",
       "      <th></th>\n",
       "      <th>claim</th>\n",
       "      <th>argument</th>\n",
       "      <th>Cleaned_claims</th>\n",
       "      <th>POS tagged</th>\n",
       "    </tr>\n",
       "  </thead>\n",
       "  <tbody>\n",
       "    <tr>\n",
       "      <th>0</th>\n",
       "      <td>Governments and technology companies must do m...</td>\n",
       "      <td>It's time for governments and tech companies t...</td>\n",
       "      <td>Governments and technology companies must do m...</td>\n",
       "      <td>[(Governments, n), (technology, n), (companies...</td>\n",
       "    </tr>\n",
       "    <tr>\n",
       "      <th>1</th>\n",
       "      <td>Governments and technology companies must do m...</td>\n",
       "      <td>In today's hyper-connected world, our personal...</td>\n",
       "      <td>Governments and technology companies must do m...</td>\n",
       "      <td>[(Governments, n), (technology, n), (companies...</td>\n",
       "    </tr>\n",
       "    <tr>\n",
       "      <th>2</th>\n",
       "      <td>Cultured/lab-grown meats should be allowed to ...</td>\n",
       "      <td>The future of food must include cultured/lab-g...</td>\n",
       "      <td>Cultured lab grown meats should be allowed to ...</td>\n",
       "      <td>[(Cultured, n), (lab, v), (grown, a), (meats, ...</td>\n",
       "    </tr>\n",
       "    <tr>\n",
       "      <th>3</th>\n",
       "      <td>Social media companies should be required to l...</td>\n",
       "      <td>Social media companies should be required to l...</td>\n",
       "      <td>Social media companies should be required to l...</td>\n",
       "      <td>[(Social, a), (media, n), (companies, n), (req...</td>\n",
       "    </tr>\n",
       "    <tr>\n",
       "      <th>4</th>\n",
       "      <td>Employers should be allowed to monitor employe...</td>\n",
       "      <td>Allowing employers to monitor employees throug...</td>\n",
       "      <td>Employers should be allowed to monitor employe...</td>\n",
       "      <td>[(Employers, n), (allowed, v), (monitor, v), (...</td>\n",
       "    </tr>\n",
       "  </tbody>\n",
       "</table>\n",
       "</div>"
      ],
      "text/plain": [
       "                                               claim  \\\n",
       "0  Governments and technology companies must do m...   \n",
       "1  Governments and technology companies must do m...   \n",
       "2  Cultured/lab-grown meats should be allowed to ...   \n",
       "3  Social media companies should be required to l...   \n",
       "4  Employers should be allowed to monitor employe...   \n",
       "\n",
       "                                            argument  \\\n",
       "0  It's time for governments and tech companies t...   \n",
       "1  In today's hyper-connected world, our personal...   \n",
       "2  The future of food must include cultured/lab-g...   \n",
       "3  Social media companies should be required to l...   \n",
       "4  Allowing employers to monitor employees throug...   \n",
       "\n",
       "                                      Cleaned_claims  \\\n",
       "0  Governments and technology companies must do m...   \n",
       "1  Governments and technology companies must do m...   \n",
       "2  Cultured lab grown meats should be allowed to ...   \n",
       "3  Social media companies should be required to l...   \n",
       "4  Employers should be allowed to monitor employe...   \n",
       "\n",
       "                                          POS tagged  \n",
       "0  [(Governments, n), (technology, n), (companies...  \n",
       "1  [(Governments, n), (technology, n), (companies...  \n",
       "2  [(Cultured, n), (lab, v), (grown, a), (meats, ...  \n",
       "3  [(Social, a), (media, n), (companies, n), (req...  \n",
       "4  [(Employers, n), (allowed, v), (monitor, v), (...  "
      ]
     },
     "execution_count": 19,
     "metadata": {},
     "output_type": "execute_result"
    }
   ],
   "source": [
    "pos_dict = {'J':wordnet.ADJ, 'V':wordnet.VERB, 'N':wordnet.NOUN, 'R':wordnet.ADV}\n",
    "\n",
    "def token_stop_pos(text):\n",
    "    tags = pos_tag(word_tokenize(text))\n",
    "    newlist = []\n",
    "    for word, tag in tags:\n",
    "        if word.lower() not in set(stopwords.words('english')):\n",
    "            newlist.append(tuple([word, pos_dict.get(tag[0])]))\n",
    "    return newlist\n",
    "\n",
    "sentiment['POS tagged'] = sentiment['Cleaned_claims'].apply(token_stop_pos)\n",
    "sentiment.head()"
   ]
  },
  {
   "cell_type": "code",
   "execution_count": 20,
   "metadata": {},
   "outputs": [
    {
     "data": {
      "text/html": [
       "<div>\n",
       "<style scoped>\n",
       "    .dataframe tbody tr th:only-of-type {\n",
       "        vertical-align: middle;\n",
       "    }\n",
       "\n",
       "    .dataframe tbody tr th {\n",
       "        vertical-align: top;\n",
       "    }\n",
       "\n",
       "    .dataframe thead th {\n",
       "        text-align: right;\n",
       "    }\n",
       "</style>\n",
       "<table border=\"1\" class=\"dataframe\">\n",
       "  <thead>\n",
       "    <tr style=\"text-align: right;\">\n",
       "      <th></th>\n",
       "      <th>claim</th>\n",
       "      <th>argument</th>\n",
       "      <th>Cleaned_claims</th>\n",
       "      <th>POS tagged</th>\n",
       "      <th>Lemma</th>\n",
       "    </tr>\n",
       "  </thead>\n",
       "  <tbody>\n",
       "    <tr>\n",
       "      <th>0</th>\n",
       "      <td>Governments and technology companies must do m...</td>\n",
       "      <td>It's time for governments and tech companies t...</td>\n",
       "      <td>Governments and technology companies must do m...</td>\n",
       "      <td>[(Governments, n), (technology, n), (companies...</td>\n",
       "      <td>Governments technology company must protect ...</td>\n",
       "    </tr>\n",
       "    <tr>\n",
       "      <th>1</th>\n",
       "      <td>Governments and technology companies must do m...</td>\n",
       "      <td>In today's hyper-connected world, our personal...</td>\n",
       "      <td>Governments and technology companies must do m...</td>\n",
       "      <td>[(Governments, n), (technology, n), (companies...</td>\n",
       "      <td>Governments technology company must protect ...</td>\n",
       "    </tr>\n",
       "    <tr>\n",
       "      <th>2</th>\n",
       "      <td>Cultured/lab-grown meats should be allowed to ...</td>\n",
       "      <td>The future of food must include cultured/lab-g...</td>\n",
       "      <td>Cultured lab grown meats should be allowed to ...</td>\n",
       "      <td>[(Cultured, n), (lab, v), (grown, a), (meats, ...</td>\n",
       "      <td>Cultured lab grown meat allow sell</td>\n",
       "    </tr>\n",
       "  </tbody>\n",
       "</table>\n",
       "</div>"
      ],
      "text/plain": [
       "                                               claim  \\\n",
       "0  Governments and technology companies must do m...   \n",
       "1  Governments and technology companies must do m...   \n",
       "2  Cultured/lab-grown meats should be allowed to ...   \n",
       "\n",
       "                                            argument  \\\n",
       "0  It's time for governments and tech companies t...   \n",
       "1  In today's hyper-connected world, our personal...   \n",
       "2  The future of food must include cultured/lab-g...   \n",
       "\n",
       "                                      Cleaned_claims  \\\n",
       "0  Governments and technology companies must do m...   \n",
       "1  Governments and technology companies must do m...   \n",
       "2  Cultured lab grown meats should be allowed to ...   \n",
       "\n",
       "                                          POS tagged  \\\n",
       "0  [(Governments, n), (technology, n), (companies...   \n",
       "1  [(Governments, n), (technology, n), (companies...   \n",
       "2  [(Cultured, n), (lab, v), (grown, a), (meats, ...   \n",
       "\n",
       "                                               Lemma  \n",
       "0    Governments technology company must protect ...  \n",
       "1    Governments technology company must protect ...  \n",
       "2                 Cultured lab grown meat allow sell  "
      ]
     },
     "execution_count": 20,
     "metadata": {},
     "output_type": "execute_result"
    }
   ],
   "source": [
    "wordnet_lemmatizer = WordNetLemmatizer()\n",
    "def lemmatize(pos_tagged):\n",
    "    lemma_new = \" \"\n",
    "    for word, pos in pos_tagged:\n",
    "        if not pos:\n",
    "            lemma = word\n",
    "            lemma_new = lemma_new + \" \" + lemma\n",
    "        else:\n",
    "            lemma = wordnet_lemmatizer.lemmatize(word, pos = pos)\n",
    "            lemma_new = lemma_new + \" \" + lemma\n",
    "    return lemma_new\n",
    "\n",
    "sentiment[\"Lemma\"] = sentiment['POS tagged'].apply(lemmatize)\n",
    "sentiment.head(3)"
   ]
  },
  {
   "cell_type": "markdown",
   "metadata": {},
   "source": [
    "## Using Textblob for sentiment analysis\n",
    "\n"
   ]
  },
  {
   "cell_type": "code",
   "execution_count": 21,
   "metadata": {},
   "outputs": [],
   "source": [
    "# function to calculate subjectivity\n",
    "def getSubjectivity(review):\n",
    "    return TextBlob(review).sentiment.subjectivity\n",
    "\n",
    "# function to calculate polarity\n",
    "def getPolarity(review):\n",
    "    return TextBlob(review).sentiment.polarity\n",
    "\n",
    "# function to analyze the reviews\n",
    "def analysis(score):\n",
    "    if score < 0:\n",
    "        return 'Negative'\n",
    "    elif score == 0:\n",
    "        return 'Neutral'\n",
    "    else:\n",
    "        return 'Positive'"
   ]
  },
  {
   "cell_type": "code",
   "execution_count": 22,
   "metadata": {},
   "outputs": [
    {
     "data": {
      "text/html": [
       "<div>\n",
       "<style scoped>\n",
       "    .dataframe tbody tr th:only-of-type {\n",
       "        vertical-align: middle;\n",
       "    }\n",
       "\n",
       "    .dataframe tbody tr th {\n",
       "        vertical-align: top;\n",
       "    }\n",
       "\n",
       "    .dataframe thead th {\n",
       "        text-align: right;\n",
       "    }\n",
       "</style>\n",
       "<table border=\"1\" class=\"dataframe\">\n",
       "  <thead>\n",
       "    <tr style=\"text-align: right;\">\n",
       "      <th></th>\n",
       "      <th>claim</th>\n",
       "      <th>Lemma</th>\n",
       "      <th>Polarity</th>\n",
       "      <th>Analysis</th>\n",
       "    </tr>\n",
       "  </thead>\n",
       "  <tbody>\n",
       "    <tr>\n",
       "      <th>0</th>\n",
       "      <td>Governments and technology companies must do m...</td>\n",
       "      <td>Governments technology company must protect ...</td>\n",
       "      <td>0.000000</td>\n",
       "      <td>Neutral</td>\n",
       "    </tr>\n",
       "    <tr>\n",
       "      <th>1</th>\n",
       "      <td>Governments and technology companies must do m...</td>\n",
       "      <td>Governments technology company must protect ...</td>\n",
       "      <td>0.000000</td>\n",
       "      <td>Neutral</td>\n",
       "    </tr>\n",
       "    <tr>\n",
       "      <th>2</th>\n",
       "      <td>Cultured/lab-grown meats should be allowed to ...</td>\n",
       "      <td>Cultured lab grown meat allow sell</td>\n",
       "      <td>0.000000</td>\n",
       "      <td>Neutral</td>\n",
       "    </tr>\n",
       "    <tr>\n",
       "      <th>3</th>\n",
       "      <td>Social media companies should be required to l...</td>\n",
       "      <td>Social medium company require label AI gener...</td>\n",
       "      <td>0.033333</td>\n",
       "      <td>Positive</td>\n",
       "    </tr>\n",
       "    <tr>\n",
       "      <th>4</th>\n",
       "      <td>Employers should be allowed to monitor employe...</td>\n",
       "      <td>Employers allow monitor employee track mecha...</td>\n",
       "      <td>0.000000</td>\n",
       "      <td>Neutral</td>\n",
       "    </tr>\n",
       "    <tr>\n",
       "      <th>5</th>\n",
       "      <td>Requiring all police officers to wear body cam...</td>\n",
       "      <td>Requiring police officer wear body camera ma...</td>\n",
       "      <td>0.000000</td>\n",
       "      <td>Neutral</td>\n",
       "    </tr>\n",
       "    <tr>\n",
       "      <th>6</th>\n",
       "      <td>Self-driving cars will increase safety and sho...</td>\n",
       "      <td>Self drive car increase safety replace human...</td>\n",
       "      <td>0.000000</td>\n",
       "      <td>Neutral</td>\n",
       "    </tr>\n",
       "    <tr>\n",
       "      <th>7</th>\n",
       "      <td>Drug importation jeopardizes safety controls a...</td>\n",
       "      <td>Drug importation jeopardize safety control d...</td>\n",
       "      <td>0.000000</td>\n",
       "      <td>Neutral</td>\n",
       "    </tr>\n",
       "    <tr>\n",
       "      <th>8</th>\n",
       "      <td>College athletes should not be paid salaries</td>\n",
       "      <td>College athlete pay salary</td>\n",
       "      <td>0.000000</td>\n",
       "      <td>Neutral</td>\n",
       "    </tr>\n",
       "    <tr>\n",
       "      <th>9</th>\n",
       "      <td>The US should ban all cultured or lab-grown me...</td>\n",
       "      <td>US ban culture lab grown meat product</td>\n",
       "      <td>0.000000</td>\n",
       "      <td>Neutral</td>\n",
       "    </tr>\n",
       "  </tbody>\n",
       "</table>\n",
       "</div>"
      ],
      "text/plain": [
       "                                               claim  \\\n",
       "0  Governments and technology companies must do m...   \n",
       "1  Governments and technology companies must do m...   \n",
       "2  Cultured/lab-grown meats should be allowed to ...   \n",
       "3  Social media companies should be required to l...   \n",
       "4  Employers should be allowed to monitor employe...   \n",
       "5  Requiring all police officers to wear body cam...   \n",
       "6  Self-driving cars will increase safety and sho...   \n",
       "7  Drug importation jeopardizes safety controls a...   \n",
       "8       College athletes should not be paid salaries   \n",
       "9  The US should ban all cultured or lab-grown me...   \n",
       "\n",
       "                                               Lemma  Polarity  Analysis  \n",
       "0    Governments technology company must protect ...  0.000000   Neutral  \n",
       "1    Governments technology company must protect ...  0.000000   Neutral  \n",
       "2                 Cultured lab grown meat allow sell  0.000000   Neutral  \n",
       "3    Social medium company require label AI gener...  0.033333  Positive  \n",
       "4    Employers allow monitor employee track mecha...  0.000000   Neutral  \n",
       "5    Requiring police officer wear body camera ma...  0.000000   Neutral  \n",
       "6    Self drive car increase safety replace human...  0.000000   Neutral  \n",
       "7    Drug importation jeopardize safety control d...  0.000000   Neutral  \n",
       "8                         College athlete pay salary  0.000000   Neutral  \n",
       "9              US ban culture lab grown meat product  0.000000   Neutral  "
      ]
     },
     "execution_count": 22,
     "metadata": {},
     "output_type": "execute_result"
    }
   ],
   "source": [
    "lemma_data = pd.DataFrame(sentiment[['claim', 'Lemma']])\n",
    "lemma_data['Polarity'] = lemma_data['Lemma'].apply(getPolarity)\n",
    "lemma_data['Analysis'] = lemma_data['Polarity'].apply(analysis)\n",
    "lemma_data.head(10)"
   ]
  },
  {
   "cell_type": "code",
   "execution_count": 23,
   "metadata": {},
   "outputs": [
    {
     "data": {
      "text/plain": [
       "Analysis\n",
       "Neutral     2337\n",
       "Positive    1041\n",
       "Negative     561\n",
       "Name: count, dtype: int64"
      ]
     },
     "execution_count": 23,
     "metadata": {},
     "output_type": "execute_result"
    }
   ],
   "source": [
    "tb_counts = lemma_data.Analysis.value_counts()\n",
    "tb_counts"
   ]
  },
  {
   "cell_type": "code",
   "execution_count": 24,
   "metadata": {},
   "outputs": [
    {
     "data": {
      "image/png": "[encoded data removed]",
      "text/plain": [
       "<Figure size 500x500 with 1 Axes>"
      ]
     },
     "metadata": {},
     "output_type": "display_data"
    }
   ],
   "source": [
    "tb_count= lemma_data.Analysis.value_counts()\n",
    "plt.figure(figsize=(5, 5))\n",
    "plt.pie(tb_counts.values, labels = tb_counts.index, explode = (0, 0, 0.25), autopct='%1.1f%%', shadow=False)\n",
    "plt.show()"
   ]
  },
  {
   "cell_type": "code",
   "execution_count": 25,
   "metadata": {},
   "outputs": [],
   "source": [
    "analyzer = SentimentIntensityAnalyzer()\n",
    "\n",
    "# function to calculate vader sentiment\n",
    "def vadersentimentanalysis(review):\n",
    "    vs = analyzer.polarity_scores(review)\n",
    "    return vs['compound']\n",
    "\n",
    "lemma_data['Vader Sentiment'] = lemma_data['Lemma'].apply(vadersentimentanalysis)"
   ]
  },
  {
   "cell_type": "code",
   "execution_count": 26,
   "metadata": {},
   "outputs": [],
   "source": [
    "# function to analyse\n",
    "def vader_analysis(compound):\n",
    "    if compound >= 0.5:\n",
    "        return 'Positive'\n",
    "    elif compound <= -0.5 :\n",
    "        return 'Negative'\n",
    "    else:\n",
    "        return 'Neutral'\n",
    "    \n",
    "    "
   ]
  },
  {
   "cell_type": "code",
   "execution_count": 27,
   "metadata": {},
   "outputs": [
    {
     "data": {
      "text/html": [
       "<div>\n",
       "<style scoped>\n",
       "    .dataframe tbody tr th:only-of-type {\n",
       "        vertical-align: middle;\n",
       "    }\n",
       "\n",
       "    .dataframe tbody tr th {\n",
       "        vertical-align: top;\n",
       "    }\n",
       "\n",
       "    .dataframe thead th {\n",
       "        text-align: right;\n",
       "    }\n",
       "</style>\n",
       "<table border=\"1\" class=\"dataframe\">\n",
       "  <thead>\n",
       "    <tr style=\"text-align: right;\">\n",
       "      <th></th>\n",
       "      <th>claim</th>\n",
       "      <th>Lemma</th>\n",
       "      <th>Polarity</th>\n",
       "      <th>Analysis</th>\n",
       "      <th>Vader Sentiment</th>\n",
       "      <th>Vader Analysis</th>\n",
       "    </tr>\n",
       "  </thead>\n",
       "  <tbody>\n",
       "    <tr>\n",
       "      <th>0</th>\n",
       "      <td>Governments and technology companies must do m...</td>\n",
       "      <td>Governments technology company must protect ...</td>\n",
       "      <td>0.000000</td>\n",
       "      <td>Neutral</td>\n",
       "      <td>0.6124</td>\n",
       "      <td>Positive</td>\n",
       "    </tr>\n",
       "    <tr>\n",
       "      <th>1</th>\n",
       "      <td>Governments and technology companies must do m...</td>\n",
       "      <td>Governments technology company must protect ...</td>\n",
       "      <td>0.000000</td>\n",
       "      <td>Neutral</td>\n",
       "      <td>0.6124</td>\n",
       "      <td>Positive</td>\n",
       "    </tr>\n",
       "    <tr>\n",
       "      <th>2</th>\n",
       "      <td>Cultured/lab-grown meats should be allowed to ...</td>\n",
       "      <td>Cultured lab grown meat allow sell</td>\n",
       "      <td>0.000000</td>\n",
       "      <td>Neutral</td>\n",
       "      <td>0.2263</td>\n",
       "      <td>Neutral</td>\n",
       "    </tr>\n",
       "    <tr>\n",
       "      <th>3</th>\n",
       "      <td>Social media companies should be required to l...</td>\n",
       "      <td>Social medium company require label AI gener...</td>\n",
       "      <td>0.033333</td>\n",
       "      <td>Positive</td>\n",
       "      <td>0.0000</td>\n",
       "      <td>Neutral</td>\n",
       "    </tr>\n",
       "    <tr>\n",
       "      <th>4</th>\n",
       "      <td>Employers should be allowed to monitor employe...</td>\n",
       "      <td>Employers allow monitor employee track mecha...</td>\n",
       "      <td>0.000000</td>\n",
       "      <td>Neutral</td>\n",
       "      <td>0.2263</td>\n",
       "      <td>Neutral</td>\n",
       "    </tr>\n",
       "  </tbody>\n",
       "</table>\n",
       "</div>"
      ],
      "text/plain": [
       "                                               claim  \\\n",
       "0  Governments and technology companies must do m...   \n",
       "1  Governments and technology companies must do m...   \n",
       "2  Cultured/lab-grown meats should be allowed to ...   \n",
       "3  Social media companies should be required to l...   \n",
       "4  Employers should be allowed to monitor employe...   \n",
       "\n",
       "                                               Lemma  Polarity  Analysis  \\\n",
       "0    Governments technology company must protect ...  0.000000   Neutral   \n",
       "1    Governments technology company must protect ...  0.000000   Neutral   \n",
       "2                 Cultured lab grown meat allow sell  0.000000   Neutral   \n",
       "3    Social medium company require label AI gener...  0.033333  Positive   \n",
       "4    Employers allow monitor employee track mecha...  0.000000   Neutral   \n",
       "\n",
       "   Vader Sentiment Vader Analysis  \n",
       "0           0.6124       Positive  \n",
       "1           0.6124       Positive  \n",
       "2           0.2263        Neutral  \n",
       "3           0.0000        Neutral  \n",
       "4           0.2263        Neutral  "
      ]
     },
     "execution_count": 27,
     "metadata": {},
     "output_type": "execute_result"
    }
   ],
   "source": [
    "lemma_data['Vader Analysis'] = lemma_data['Vader Sentiment'].apply(vader_analysis)\n",
    "lemma_data.head()"
   ]
  },
  {
   "cell_type": "code",
   "execution_count": 28,
   "metadata": {},
   "outputs": [
    {
     "data": {
      "text/plain": [
       "Vader Analysis\n",
       "Neutral     3156\n",
       "Negative     570\n",
       "Positive     213\n",
       "Name: count, dtype: int64"
      ]
     },
     "execution_count": 28,
     "metadata": {},
     "output_type": "execute_result"
    }
   ],
   "source": [
    "vader_counts = lemma_data['Vader Analysis'].value_counts()\n",
    "vader_counts"
   ]
  },
  {
   "cell_type": "code",
   "execution_count": 29,
   "metadata": {},
   "outputs": [
    {
     "data": {
      "image/png": "[encoded data removed]",
      "text/plain": [
       "<Figure size 500x500 with 1 Axes>"
      ]
     },
     "metadata": {},
     "output_type": "display_data"
    }
   ],
   "source": [
    "vader_counts= lemma_data['Vader Analysis'].value_counts()\n",
    "plt.figure(figsize=(5, 5))\n",
    "plt.pie(vader_counts.values, labels = vader_counts.index, explode = (0.1, 0, 0), autopct='%1.1f%%', shadow=False)\n",
    "plt.show()"
   ]
  },
  {
   "cell_type": "code",
   "execution_count": 30,
   "metadata": {},
   "outputs": [
    {
     "data": {
      "text/html": [
       "<div>\n",
       "<style scoped>\n",
       "    .dataframe tbody tr th:only-of-type {\n",
       "        vertical-align: middle;\n",
       "    }\n",
       "\n",
       "    .dataframe tbody tr th {\n",
       "        vertical-align: top;\n",
       "    }\n",
       "\n",
       "    .dataframe thead th {\n",
       "        text-align: right;\n",
       "    }\n",
       "</style>\n",
       "<table border=\"1\" class=\"dataframe\">\n",
       "  <thead>\n",
       "    <tr style=\"text-align: right;\">\n",
       "      <th></th>\n",
       "      <th>claim</th>\n",
       "      <th>Lemma</th>\n",
       "      <th>Polarity</th>\n",
       "      <th>Analysis</th>\n",
       "      <th>Vader Sentiment</th>\n",
       "      <th>Vader Analysis</th>\n",
       "      <th>SWN analysis</th>\n",
       "    </tr>\n",
       "  </thead>\n",
       "  <tbody>\n",
       "    <tr>\n",
       "      <th>0</th>\n",
       "      <td>Governments and technology companies must do m...</td>\n",
       "      <td>Governments technology company must protect ...</td>\n",
       "      <td>0.000000</td>\n",
       "      <td>Neutral</td>\n",
       "      <td>0.6124</td>\n",
       "      <td>Positive</td>\n",
       "      <td>Neutral</td>\n",
       "    </tr>\n",
       "    <tr>\n",
       "      <th>1</th>\n",
       "      <td>Governments and technology companies must do m...</td>\n",
       "      <td>Governments technology company must protect ...</td>\n",
       "      <td>0.000000</td>\n",
       "      <td>Neutral</td>\n",
       "      <td>0.6124</td>\n",
       "      <td>Positive</td>\n",
       "      <td>Neutral</td>\n",
       "    </tr>\n",
       "    <tr>\n",
       "      <th>2</th>\n",
       "      <td>Cultured/lab-grown meats should be allowed to ...</td>\n",
       "      <td>Cultured lab grown meat allow sell</td>\n",
       "      <td>0.000000</td>\n",
       "      <td>Neutral</td>\n",
       "      <td>0.2263</td>\n",
       "      <td>Neutral</td>\n",
       "      <td>Neutral</td>\n",
       "    </tr>\n",
       "    <tr>\n",
       "      <th>3</th>\n",
       "      <td>Social media companies should be required to l...</td>\n",
       "      <td>Social medium company require label AI gener...</td>\n",
       "      <td>0.033333</td>\n",
       "      <td>Positive</td>\n",
       "      <td>0.0000</td>\n",
       "      <td>Neutral</td>\n",
       "      <td>Neutral</td>\n",
       "    </tr>\n",
       "    <tr>\n",
       "      <th>4</th>\n",
       "      <td>Employers should be allowed to monitor employe...</td>\n",
       "      <td>Employers allow monitor employee track mecha...</td>\n",
       "      <td>0.000000</td>\n",
       "      <td>Neutral</td>\n",
       "      <td>0.2263</td>\n",
       "      <td>Neutral</td>\n",
       "      <td>Neutral</td>\n",
       "    </tr>\n",
       "  </tbody>\n",
       "</table>\n",
       "</div>"
      ],
      "text/plain": [
       "                                               claim  \\\n",
       "0  Governments and technology companies must do m...   \n",
       "1  Governments and technology companies must do m...   \n",
       "2  Cultured/lab-grown meats should be allowed to ...   \n",
       "3  Social media companies should be required to l...   \n",
       "4  Employers should be allowed to monitor employe...   \n",
       "\n",
       "                                               Lemma  Polarity  Analysis  \\\n",
       "0    Governments technology company must protect ...  0.000000   Neutral   \n",
       "1    Governments technology company must protect ...  0.000000   Neutral   \n",
       "2                 Cultured lab grown meat allow sell  0.000000   Neutral   \n",
       "3    Social medium company require label AI gener...  0.033333  Positive   \n",
       "4    Employers allow monitor employee track mecha...  0.000000   Neutral   \n",
       "\n",
       "   Vader Sentiment Vader Analysis SWN analysis  \n",
       "0           0.6124       Positive      Neutral  \n",
       "1           0.6124       Positive      Neutral  \n",
       "2           0.2263        Neutral      Neutral  \n",
       "3           0.0000        Neutral      Neutral  \n",
       "4           0.2263        Neutral      Neutral  "
      ]
     },
     "execution_count": 30,
     "metadata": {},
     "output_type": "execute_result"
    }
   ],
   "source": [
    "def sentiwordnetanalysis(pos_data):\n",
    "    sentiment = 0\n",
    "    tokens_count = 0\n",
    "    for word, pos in pos_data:\n",
    "        if not pos:\n",
    "            continue\n",
    "        lemma = wordnet_lemmatizer.lemmatize(word, pos=pos)\n",
    "        if not lemma:\n",
    "            continue\n",
    "        synsets = wordnet.synsets(lemma, pos=pos)\n",
    "        if not synsets:\n",
    "            continue\n",
    "        # Take the first sense, the most common\n",
    "        synset = synsets[0]\n",
    "        swn_synset = swn.senti_synset(synset.name())\n",
    "        sentiment += swn_synset.pos_score() - swn_synset.neg_score()\n",
    "        tokens_count += 1\n",
    "        # print(swn_synset.pos_score(),swn_synset.neg_score(),swn_synset.obj_score())\n",
    "    if not tokens_count:\n",
    "        return 0\n",
    "    if sentiment>0:\n",
    "        return \"Positive\"\n",
    "    if sentiment==0:\n",
    "        return \"Neutral\"\n",
    "    else:\n",
    "        return \"Negative\"\n",
    "\n",
    "lemma_data['SWN analysis'] = sentiment['POS tagged'].apply(sentiwordnetanalysis)\n",
    "lemma_data.head()"
   ]
  },
  {
   "cell_type": "code",
   "execution_count": 31,
   "metadata": {},
   "outputs": [
    {
     "data": {
      "text/plain": [
       "SWN analysis\n",
       "Neutral     1608\n",
       "Negative    1284\n",
       "Positive    1047\n",
       "Name: count, dtype: int64"
      ]
     },
     "execution_count": 31,
     "metadata": {},
     "output_type": "execute_result"
    }
   ],
   "source": [
    "swn_counts= lemma_data['SWN analysis'].value_counts()\n",
    "swn_counts\n"
   ]
  },
  {
   "cell_type": "code",
   "execution_count": 32,
   "metadata": {},
   "outputs": [
    {
     "data": {
      "image/png": "[encoded data removed]",
      "text/plain": [
       "<Figure size 500x500 with 1 Axes>"
      ]
     },
     "metadata": {},
     "output_type": "display_data"
    }
   ],
   "source": [
    "swn_counts= lemma_data['SWN analysis'].value_counts()\n",
    "plt.figure(figsize=(5, 5))\n",
    "plt.pie(swn_counts.values, labels = swn_counts.index, explode = (0.1, 0, 0), autopct='%1.1f%%', shadow=False)\n",
    "plt.show()\n"
   ]
  },
  {
   "cell_type": "markdown",
   "metadata": {},
   "source": [
    "## Using deep learning for sentiment analysis"
   ]
  },
  {
   "cell_type": "markdown",
   "metadata": {},
   "source": [
    "For this next part you have to install **tensorflow** and **Keras** in order to work. Please make sure you follow the steps for this installation acording to your operating system.\n",
    "\n",
    "Please ensure you have also installed transformers. \n",
    "\n",
    "- pip install transformers\n"
   ]
  },
  {
   "cell_type": "code",
   "execution_count": 41,
   "metadata": {},
   "outputs": [
    {
     "name": "stderr",
     "output_type": "stream",
     "text": [
      "All model checkpoint layers were used when initializing TFRobertaForSequenceClassification.\n",
      "\n",
      "All the layers of TFRobertaForSequenceClassification were initialized from the model checkpoint at arpanghoshal/EmoRoBERTa.\n",
      "If your task is similar to the task the model of the checkpoint was trained on, you can already use TFRobertaForSequenceClassification for predictions without further training.\n",
      "All model checkpoint layers were used when initializing TFRobertaForSequenceClassification.\n",
      "\n",
      "All the layers of TFRobertaForSequenceClassification were initialized from the model checkpoint at arpanghoshal/EmoRoBERTa.\n",
      "If your task is similar to the task the model of the checkpoint was trained on, you can already use TFRobertaForSequenceClassification for predictions without further training.\n"
     ]
    },
    {
     "name": "stdout",
     "output_type": "stream",
     "text": [
      "[{'label': 'neutral', 'score': 0.8156991004943848}]\n"
     ]
    }
   ],
   "source": [
    "from transformers import RobertaTokenizerFast, TFRobertaForSequenceClassification, pipeline\n",
    "\n",
    "tokenizer = RobertaTokenizerFast.from_pretrained(\"arpanghoshal/EmoRoBERTa\")\n",
    "model = TFRobertaForSequenceClassification.from_pretrained(\"arpanghoshal/EmoRoBERTa\")\n",
    "\n",
    "emotion = pipeline('sentiment-analysis', \n",
    "                    model='arpanghoshal/EmoRoBERTa')\n",
    "\n",
    "emotion_labels = emotion(sentiment['Lemma'][0])\n",
    "print(emotion_labels)"
   ]
  },
  {
   "cell_type": "code",
   "execution_count": 40,
   "metadata": {},
   "outputs": [
    {
     "name": "stdout",
     "output_type": "stream",
     "text": [
      "  Governments technology company must protect online privacy security\n"
     ]
    }
   ],
   "source": [
    "print(sentiment['Lemma'][0])"
   ]
  },
  {
   "cell_type": "code",
   "execution_count": 42,
   "metadata": {},
   "outputs": [
    {
     "data": {
      "text/html": [
       "<div>\n",
       "<style scoped>\n",
       "    .dataframe tbody tr th:only-of-type {\n",
       "        vertical-align: middle;\n",
       "    }\n",
       "\n",
       "    .dataframe tbody tr th {\n",
       "        vertical-align: top;\n",
       "    }\n",
       "\n",
       "    .dataframe thead th {\n",
       "        text-align: right;\n",
       "    }\n",
       "</style>\n",
       "<table border=\"1\" class=\"dataframe\">\n",
       "  <thead>\n",
       "    <tr style=\"text-align: right;\">\n",
       "      <th></th>\n",
       "      <th>claim</th>\n",
       "      <th>Lemma</th>\n",
       "      <th>Polarity</th>\n",
       "      <th>Analysis</th>\n",
       "      <th>Vader Sentiment</th>\n",
       "      <th>Vader Analysis</th>\n",
       "      <th>SWN analysis</th>\n",
       "      <th>roBerta analysis</th>\n",
       "      <th>Berta</th>\n",
       "    </tr>\n",
       "  </thead>\n",
       "  <tbody>\n",
       "    <tr>\n",
       "      <th>0</th>\n",
       "      <td>Governments and technology companies must do m...</td>\n",
       "      <td>Governments technology company must protect ...</td>\n",
       "      <td>0.000000</td>\n",
       "      <td>Neutral</td>\n",
       "      <td>0.6124</td>\n",
       "      <td>Positive</td>\n",
       "      <td>Neutral</td>\n",
       "      <td>Neutral</td>\n",
       "      <td>[{'label': 'neutral', 'score': 0.8156991004943...</td>\n",
       "    </tr>\n",
       "    <tr>\n",
       "      <th>1</th>\n",
       "      <td>Governments and technology companies must do m...</td>\n",
       "      <td>Governments technology company must protect ...</td>\n",
       "      <td>0.000000</td>\n",
       "      <td>Neutral</td>\n",
       "      <td>0.6124</td>\n",
       "      <td>Positive</td>\n",
       "      <td>Neutral</td>\n",
       "      <td>Neutral</td>\n",
       "      <td>[{'label': 'neutral', 'score': 0.8156991004943...</td>\n",
       "    </tr>\n",
       "    <tr>\n",
       "      <th>2</th>\n",
       "      <td>Cultured/lab-grown meats should be allowed to ...</td>\n",
       "      <td>Cultured lab grown meat allow sell</td>\n",
       "      <td>0.000000</td>\n",
       "      <td>Neutral</td>\n",
       "      <td>0.2263</td>\n",
       "      <td>Neutral</td>\n",
       "      <td>Neutral</td>\n",
       "      <td>Neutral</td>\n",
       "      <td>[{'label': 'neutral', 'score': 0.9008301496505...</td>\n",
       "    </tr>\n",
       "    <tr>\n",
       "      <th>3</th>\n",
       "      <td>Social media companies should be required to l...</td>\n",
       "      <td>Social medium company require label AI gener...</td>\n",
       "      <td>0.033333</td>\n",
       "      <td>Positive</td>\n",
       "      <td>0.0000</td>\n",
       "      <td>Neutral</td>\n",
       "      <td>Neutral</td>\n",
       "      <td>Neutral</td>\n",
       "      <td>[{'label': 'neutral', 'score': 0.9939213991165...</td>\n",
       "    </tr>\n",
       "    <tr>\n",
       "      <th>4</th>\n",
       "      <td>Employers should be allowed to monitor employe...</td>\n",
       "      <td>Employers allow monitor employee track mecha...</td>\n",
       "      <td>0.000000</td>\n",
       "      <td>Neutral</td>\n",
       "      <td>0.2263</td>\n",
       "      <td>Neutral</td>\n",
       "      <td>Neutral</td>\n",
       "      <td>Neutral</td>\n",
       "      <td>[{'label': 'neutral', 'score': 0.9609962105751...</td>\n",
       "    </tr>\n",
       "  </tbody>\n",
       "</table>\n",
       "</div>"
      ],
      "text/plain": [
       "                                               claim  \\\n",
       "0  Governments and technology companies must do m...   \n",
       "1  Governments and technology companies must do m...   \n",
       "2  Cultured/lab-grown meats should be allowed to ...   \n",
       "3  Social media companies should be required to l...   \n",
       "4  Employers should be allowed to monitor employe...   \n",
       "\n",
       "                                               Lemma  Polarity  Analysis  \\\n",
       "0    Governments technology company must protect ...  0.000000   Neutral   \n",
       "1    Governments technology company must protect ...  0.000000   Neutral   \n",
       "2                 Cultured lab grown meat allow sell  0.000000   Neutral   \n",
       "3    Social medium company require label AI gener...  0.033333  Positive   \n",
       "4    Employers allow monitor employee track mecha...  0.000000   Neutral   \n",
       "\n",
       "   Vader Sentiment Vader Analysis SWN analysis roBerta analysis  \\\n",
       "0           0.6124       Positive      Neutral          Neutral   \n",
       "1           0.6124       Positive      Neutral          Neutral   \n",
       "2           0.2263        Neutral      Neutral          Neutral   \n",
       "3           0.0000        Neutral      Neutral          Neutral   \n",
       "4           0.2263        Neutral      Neutral          Neutral   \n",
       "\n",
       "                                               Berta  \n",
       "0  [{'label': 'neutral', 'score': 0.8156991004943...  \n",
       "1  [{'label': 'neutral', 'score': 0.8156991004943...  \n",
       "2  [{'label': 'neutral', 'score': 0.9008301496505...  \n",
       "3  [{'label': 'neutral', 'score': 0.9939213991165...  \n",
       "4  [{'label': 'neutral', 'score': 0.9609962105751...  "
      ]
     },
     "execution_count": 42,
     "metadata": {},
     "output_type": "execute_result"
    }
   ],
   "source": [
    "lemma_data['Berta'] = sentiment['Lemma'].apply(emotion)\n",
    "lemma_data.head()"
   ]
  },
  {
   "cell_type": "code",
   "execution_count": 43,
   "metadata": {},
   "outputs": [],
   "source": [
    "# https://www.freecodecamp.org/news/dataframe-to-csv-how-to-save-pandas-dataframes-by-exporting/\n",
    "\n",
    "lemma_data.to_csv('data/sentiment_analysis.csv', index=False)"
   ]
  }
 ],
 "metadata": {
  "kernelspec": {
   "display_name": "sentiment",
   "language": "python",
   "name": "python3"
  },
  "language_info": {
   "codemirror_mode": {
    "name": "ipython",
    "version": 3
   },
   "file_extension": ".py",
   "mimetype": "text/x-python",
   "name": "python",
   "nbconvert_exporter": "python",
   "pygments_lexer": "ipython3",
   "version": "3.12.3"
  }
 },
 "nbformat": 4,
 "nbformat_minor": 2
}
